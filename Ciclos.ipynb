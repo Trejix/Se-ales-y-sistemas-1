{
  "nbformat": 4,
  "nbformat_minor": 0,
  "metadata": {
    "colab": {
      "provenance": [],
      "authorship_tag": "ABX9TyMZuW+taeuEf8rAE4erbH7q",
      "include_colab_link": true
    },
    "kernelspec": {
      "name": "python3",
      "display_name": "Python 3"
    },
    "language_info": {
      "name": "python"
    }
  },
  "cells": [
    {
      "cell_type": "markdown",
      "metadata": {
        "id": "view-in-github",
        "colab_type": "text"
      },
      "source": [
        "<a href=\"https://colab.research.google.com/github/Trejix/Se-ales-y-sistemas-1/blob/main/Ciclos.ipynb\" target=\"_parent\"><img src=\"https://colab.research.google.com/assets/colab-badge.svg\" alt=\"Open In Colab\"/></a>"
      ]
    },
    {
      "cell_type": "code",
      "execution_count": null,
      "metadata": {
        "id": "Ns_AizWd1jlt"
      },
      "outputs": [],
      "source": [
        "import numpy as np\n",
        "contador = 0\n",
        "X = int(input(\"Ingrese un número entero si deseas finalizar el proceso digita el número 0:  \"))\n",
        "while (X>=1):\n",
        "  contador = (contador + 1)\n",
        "  X = int(input(\"Ingrese un número entero si deseas finalizar el proceso digita el número 0:  \"))\n",
        "\n",
        "print(\"Se registraron\", contador, \" números \")\n",
        "\n"
      ]
    },
    {
      "cell_type": "code",
      "source": [
        "6sumatoria = 0\n",
        "conteo = 0\n",
        "while (sumatoria<=50 and conteo < 10 ):\n",
        "  x = int(input(\"Digite un número entero : \"))\n",
        "  if x%2==0 :\n",
        "    sumatoria = (sumatoria+x)\n",
        "  conteo = (conteo+1)\n",
        "\n",
        "print (\"el total de la suma de los numeros pares es \",sumatoria,)\n"
      ],
      "metadata": {
        "colab": {
          "base_uri": "https://localhost:8080/"
        },
        "id": "uYKB5Dt56En5",
        "outputId": "16b2d4ab-b334-432e-a76f-33f80d6ff2b1"
      },
      "execution_count": null,
      "outputs": [
        {
          "output_type": "stream",
          "name": "stdout",
          "text": [
            "Digite un número entero : 6\n",
            "Digite un número entero : 6\n",
            "Digite un número entero : 6\n",
            "Digite un número entero : 6\n",
            "Digite un número entero : 6\n",
            "Digite un número entero : 6\n",
            "Digite un número entero : 6\n",
            "Digite un número entero : 6\n",
            "Digite un número entero : 6\n",
            "el total de la suma de los numeros pares es  54\n"
          ]
        }
      ]
    }
  ]
}