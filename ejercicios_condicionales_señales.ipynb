{
  "nbformat": 4,
  "nbformat_minor": 0,
  "metadata": {
    "colab": {
      "provenance": [],
      "authorship_tag": "ABX9TyPM813TvJ1jNrRsQZKiVCP6",
      "include_colab_link": true
    },
    "kernelspec": {
      "name": "python3",
      "display_name": "Python 3"
    },
    "language_info": {
      "name": "python"
    }
  },
  "cells": [
    {
      "cell_type": "markdown",
      "metadata": {
        "id": "view-in-github",
        "colab_type": "text"
      },
      "source": [
        "<a href=\"https://colab.research.google.com/github/Trejix/Se-ales-y-sistemas-1/blob/main/ejercicios_condicionales_se%C3%B1ales.ipynb\" target=\"_parent\"><img src=\"https://colab.research.google.com/assets/colab-badge.svg\" alt=\"Open In Colab\"/></a>"
      ]
    },
    {
      "cell_type": "code",
      "execution_count": null,
      "metadata": {
        "colab": {
          "base_uri": "https://localhost:8080/"
        },
        "id": "6NXg05bAhJLB",
        "outputId": "aedbb3e7-0c26-4663-ff0e-0a2e1c9002e0"
      },
      "outputs": [
        {
          "output_type": "stream",
          "name": "stdout",
          "text": [
            "Ingresa tu edad: 17\n",
            "Ingresa tu ingreso mensual en euros: 1000\n",
            "Debes pagar el impuesto.\n"
          ]
        }
      ],
      "source": [
        "edad = int(input(\"Ingresa tu edad: \"))\n",
        "ingreso_mensual = float(input(\"Ingresa tu ingreso mensual en euros: \"))\n",
        "\n",
        "}if edad > 16 and ingreso_mensual >= 1000:\n",
        "    print(\"Debes pagar el impuesto.\")\n",
        "else:\n",
        "    print(\"No debes pagar el impuesto.\")"
      ]
    },
    {
      "cell_type": "code",
      "source": [
        "print(\"¡Bienvenido a la Pizzería Bella Napoli!\")\n",
        "\n",
        "eleccion = input(\"¿Deseas una pizza vegetariana? (Si/No): \")\n",
        "\n",
        "\n",
        "ingredientesbase = [\"mozzarella\", \"tomate\"]\n",
        "ingredientesvegetarianos = [\"pimientos morrones\", \"tofu\"]\n",
        "ingredientesnovegetarianos = [\"pepperoni\", \"jamón\", \"salmón\"]\n",
        "\n",
        "\n",
        "print(\"\\nIngredientes Disponibles:\")\n",
        "print(\"1. Mozzarella\")\n",
        "print(\"2. Tomate\")\n",
        "\n",
        "if eleccion.lower() == \"si\":\n",
        "    print(\"3. Pimientos Morrones\")\n",
        "    print(\"4. Tofu\")\n",
        "else:\n",
        "    print(\"3. Pepperoni\")\n",
        "    print(\"4. Jamón\")\n",
        "    print(\"5. Salmón\")\n",
        "\n",
        "ingrediente_elegido = str(input(\"Elige un ingrediente adicional : \"))\n",
        "ingrediente_elegido.lower() == ingrediente_elegido\n",
        "\n",
        "if eleccion.lower() == \"si\":\n",
        "  ingredientes_elegidos = tuple(ingredientesbase + [ ingrediente_elegido])\n",
        "  print (\"los ingredientes de su pizza son: \")\n",
        "  print (ingredientes_elegidos)\n",
        "  print (\"Su pizza es vegetariana\")\n",
        "else :\n",
        "  ingredientes_elegidos = tuple(ingredientesbase + [ingrediente_elegido])\n",
        "  print (\"los ingredientes de su pizza son: \")\n",
        "  print (ingredientes_elegidos)\n",
        "  print (\"Su pizza no es vegetariana\")\n",
        "\n",
        "\n",
        "\n",
        "\n"
      ],
      "metadata": {
        "colab": {
          "base_uri": "https://localhost:8080/"
        },
        "id": "qHcezUhDmkZr",
        "outputId": "00ec1b40-884f-4199-f49e-2de12c0b1901"
      },
      "execution_count": null,
      "outputs": [
        {
          "output_type": "stream",
          "name": "stdout",
          "text": [
            "¡Bienvenido a la Pizzería Bella Napoli!\n",
            "¿Deseas una pizza vegetariana? (Si/No): si\n",
            "\n",
            "Ingredientes Disponibles:\n",
            "1. Mozzarella\n",
            "2. Tomate\n",
            "3. Pimientos Morrones\n",
            "4. Tofu\n",
            "Elige un ingrediente adicional : tofu\n",
            "los ingredientes de su pizza son: \n",
            "('mozzarella', 'tomate', 'tofu')\n",
            "Su pizza es vegetariana\n"
          ]
        }
      ]
    }
  ]
}