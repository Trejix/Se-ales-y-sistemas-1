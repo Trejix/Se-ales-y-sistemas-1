{
  "nbformat": 4,
  "nbformat_minor": 0,
  "metadata": {
    "colab": {
      "provenance": [],
      "authorship_tag": "ABX9TyPADmOM02BVpx8DSXKevrnZ",
      "include_colab_link": true
    },
    "kernelspec": {
      "name": "python3",
      "display_name": "Python 3"
    },
    "language_info": {
      "name": "python"
    }
  },
  "cells": [
    {
      "cell_type": "markdown",
      "metadata": {
        "id": "view-in-github",
        "colab_type": "text"
      },
      "source": [
        "<a href=\"https://colab.research.google.com/github/Trejix/Se-ales-y-sistemas-1/blob/main/Primeros_ejercicios.ipynb\" target=\"_parent\"><img src=\"https://colab.research.google.com/assets/colab-badge.svg\" alt=\"Open In Colab\"/></a>"
      ]
    },
    {
      "cell_type": "code",
      "execution_count": null,
      "metadata": {
        "id": "N-0FXuyFdY14"
      },
      "outputs": [],
      "source": [
        "import numpy as np\n"
      ]
    },
    {
      "cell_type": "code",
      "source": [
        "x = 3+2\n",
        "y = 2.5\n",
        "\n",
        "f = (x/y)\n",
        "a = f**2\n",
        "print (a)"
      ],
      "metadata": {
        "colab": {
          "base_uri": "https://localhost:8080/"
        },
        "id": "8CZwSIq4dhVB",
        "outputId": "20182b27-d994-4e50-8c0a-e01824feb949"
      },
      "execution_count": null,
      "outputs": [
        {
          "output_type": "stream",
          "name": "stdout",
          "text": [
            "4.0\n"
          ]
        }
      ]
    },
    {
      "cell_type": "code",
      "source": [
        "x = input(\"digite el numero de horas trabajadas:\")\n",
        "x = int(x)\n",
        "y = input (\"digite el valor de la hora de trabajo:\" )\n",
        "y = int (y)\n",
        "print(\"el pago recibido por las horas trabajadas corresponde a:\")\n",
        "f = (x*y)\n",
        "print (f)"
      ],
      "metadata": {
        "colab": {
          "base_uri": "https://localhost:8080/"
        },
        "id": "mgXWtyMkd1FM",
        "outputId": "3ae09791-cfd9-485f-c5d6-c18fa593b1b4"
      },
      "execution_count": null,
      "outputs": [
        {
          "output_type": "stream",
          "name": "stdout",
          "text": [
            "digite el numero de horas trabajadas:8 \n",
            "digite el valor de la hora de trabajo:10\n",
            "el pago recibido por las horas trabajadas corresponde a:\n",
            "80\n"
          ]
        }
      ]
    },
    {
      "cell_type": "code",
      "source": [
        "x = input (\"digite el su peso en Kg: \")\n",
        "x = int(x)\n",
        "y = input (\"digite su altura\")\n",
        "y = float (y)\n",
        "\n",
        "p = (x/y)\n",
        "print (\"su indice de masas corporal es: \")\n",
        "p = round(p,2)\n",
        "print (p)\n"
      ],
      "metadata": {
        "colab": {
          "base_uri": "https://localhost:8080/"
        },
        "id": "uTTpDdRee8zl",
        "outputId": "d2d771e1-6326-4de9-8b1f-76b93008133e"
      },
      "execution_count": null,
      "outputs": [
        {
          "output_type": "stream",
          "name": "stdout",
          "text": [
            "digite el su peso en Kg: 89\n",
            "digite su altura1.75\n",
            "su indice de masas corporal es :\n",
            "50.86\n"
          ]
        }
      ]
    }
  ]
}